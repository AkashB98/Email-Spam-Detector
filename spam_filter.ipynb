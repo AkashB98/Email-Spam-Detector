{
 "cells": [
  {
   "cell_type": "code",
   "execution_count": 1,
   "metadata": {},
   "outputs": [],
   "source": [
    "#!/usr/bin/python\n",
    "# -*- coding: utf-8 -*-\n",
    "import re\n",
    "import nltk\n",
    "import string\n",
    "from collections import Counter\n",
    "import numpy as np\n",
    "import pandas as pd\n",
    "import matplotlib.pyplot as plt\n",
    "from nltk.corpus import stopwords\n",
    "from nltk.stem.wordnet import WordNetLemmatizer\n",
    "from sklearn.preprocessing import label_binarize\n",
    "from sklearn.model_selection import train_test_split\n",
    "from sklearn.naive_bayes import MultinomialNB, BernoulliNB\n",
    "from sklearn.linear_model import LogisticRegression\n",
    "import sklearn.metrics as metrics\n",
    "from sklearn.metrics import precision_score, recall_score, confusion_matrix, roc_curve, auc, accuracy_score"
   ]
  },
  {
   "cell_type": "code",
   "execution_count": 2,
   "metadata": {},
   "outputs": [],
   "source": [
    "def load_data(test, spam):\n",
    "    \n",
    "    #Read emails from 2 csv files; one for emails from inbox and the other for spam\n",
    "    #In the 2 csv files, column 'v1' is label of the email and 'v2' is the body of the email\n",
    "    df1 = pd.read_csv('INBOX.csv', encoding = 'utf-8')\n",
    "    df2 = pd.read_csv('SPAM.csv', encoding = 'utf-8')\n",
    "    \n",
    "    #Concatenate and shuffle emails\n",
    "    frames = [df1, df2]\n",
    "    df = pd.concat(frames)\n",
    "    df = df.sample(frac = 1).reset_index(drop = True)\n",
    "    \n",
    "    return(df)"
   ]
  },
  {
   "cell_type": "code",
   "execution_count": 3,
   "metadata": {},
   "outputs": [],
   "source": [
    "def data_clean(df):\n",
    "    \n",
    "    #Remove byte flag and quotations marks\n",
    "    df['v2'] = df['v2'].str[2:]\n",
    "    df['v2'] = df['v2'].str[:-1]\n",
    "    \n",
    "    #Remove irrelevant punctuations\n",
    "    df['v2'] = df['v2'].str.replace('[{}]'.format(string.punctuation), '')\n",
    "    \n",
    "    #Convert email body to lowercase for easy processing of data\n",
    "    df['v2'] = df['v2'].str.lower()\n",
    "    \n",
    "    #Remove numbers\n",
    "    df['v2'] = df['v2'].str.replace('^\\d+\\s|\\s\\d+\\s|\\s\\d+$', '', regex = True)\n",
    "    \n",
    "    #Remove URLs\n",
    "    df['v2'] = df['v2'].str.replace('http\\S+|www.\\S+', '', regex = True)\n",
    "    \n",
    "    #Remove email addresses\n",
    "    df['v2'] = df['v2'].str.replace(r'[\\w\\.-]+@[\\w\\.-]+(\\.[\\w]+)+', '', regex = True)\n",
    "    \n",
    "    return(df)"
   ]
  },
  {
   "cell_type": "code",
   "execution_count": 4,
   "metadata": {},
   "outputs": [],
   "source": [
    "def stop_words(df):\n",
    "    \n",
    "    #Store common stopwords into a variable\n",
    "    stop = stopwords.words('english')\n",
    "    \n",
    "    #Remove stop words from email body\n",
    "    df['v2'] = df['v2'].apply(lambda x: ' '.join([word for word in x.split() if word not in (stop)]))\n",
    "    \n",
    "    return(df)"
   ]
  },
  {
   "cell_type": "code",
   "execution_count": 5,
   "metadata": {},
   "outputs": [],
   "source": [
    "def lemmatize_text(text):\n",
    "    \n",
    "    #Lemmatize the email body\n",
    "    return ' '.join([lemmatizer.lemmatize(w) for w in w_tokenizer.tokenize(text)])"
   ]
  },
  {
   "cell_type": "code",
   "execution_count": 1,
   "metadata": {},
   "outputs": [],
   "source": [
    "def my_train_test_split(df):\n",
    "    \n",
    "    # Create test and train datasets with test size of 30%\n",
    "    x_train, x_test, y_train, y_test = train_test_split(df.v2, df.v1, test_size = 0.3, random_state = 100)\n",
    "    \n",
    "    return(x_train, x_test, y_train, y_test)"
   ]
  },
  {
   "cell_type": "code",
   "execution_count": 7,
   "metadata": {},
   "outputs": [],
   "source": [
    "def build_dictionary(x_train):\n",
    "\n",
    "    list_of_words = []\n",
    "\n",
    "    #Store words from emails into a list\n",
    "    for index, line in x_train.iteritems():\n",
    "        words = line.split()\n",
    "        list_of_words += words\n",
    "    \n",
    "    #Remove non alphabets and single character text\n",
    "    for index, word in enumerate(list_of_words):\n",
    "        if word.isalpha() == False or len(word) < 2:\n",
    "            del list_of_words[index]\n",
    "\n",
    "    #Create dictionary with key as unique words and value as their number of occurrences in emails\n",
    "    dictionary = Counter(list_of_words)\n",
    "    \n",
    "    #Remove unique words with 1 count\n",
    "    dictionary = {k : v for k, v in dictionary.items() if v != 1}\n",
    "    \n",
    "    return(dictionary)"
   ]
  },
  {
   "cell_type": "code",
   "execution_count": 8,
   "metadata": {},
   "outputs": [],
   "source": [
    "def build_features(x_train, dictionary):\n",
    "    \n",
    "    #Store features in ndarray\n",
    "    feature_matrix = np.zeros((x_train.shape[0], len(dictionary)))\n",
    "\n",
    "    #Store the number of occurances of each word in the emails\n",
    "    for index, line in x_train.iteritems():\n",
    "        words = line.split()\n",
    "        for word_index, word in enumerate(dictionary):\n",
    "            feature_matrix[index, word_index] = words.count(word)\n",
    "    \n",
    "    return(feature_matrix)"
   ]
  },
  {
   "cell_type": "code",
   "execution_count": 9,
   "metadata": {},
   "outputs": [],
   "source": [
    "def roc_curve_plot(classifier, X_test, y_test):\n",
    "    \n",
    "    #Predict probabilities of occurrences\n",
    "    probabality = classifier.predict_proba(X_test)\n",
    "    prediction = probabality[:, 1]\n",
    "    \n",
    "    #Label classes\n",
    "    y_test_labeled = label_binarize(y_test, classes = ['spam', 'ham'])\n",
    "    \n",
    "    #Retrieve False Positive and True Positive values\n",
    "    fpr, tpr, threshold = metrics.roc_curve(y_test_labeled, prediction, pos_label = 0)\n",
    "    \n",
    "    #Plot ROC curve\n",
    "    roc_auc = metrics.auc(fpr, tpr)\n",
    "    plt.title('Receiver Operating Characteristic')\n",
    "    plt.plot(fpr, tpr, 'b', label = 'AUC = %0.2f' % roc_auc)\n",
    "    plt.legend(loc = 'lower right')\n",
    "    plt.plot([0, 1], [0, 1],'r--')\n",
    "    plt.xlim([0, 1])\n",
    "    plt.ylim([0, 1])\n",
    "    plt.ylabel('True Positive Rate')\n",
    "    plt.xlabel('False Positive Rate')\n",
    "    plt.show()"
   ]
  },
  {
   "cell_type": "code",
   "execution_count": 10,
   "metadata": {},
   "outputs": [],
   "source": [
    "#Load email from inbox and spam labels\n",
    "df = load_data('INBOX.csv', 'SPAM.csv')\n",
    "\n",
    "# Clean data\n",
    "df = data_clean(df)\n",
    "df = stop_words(df)\n",
    "words = set(nltk.corpus.words.words())\n",
    "w_tokenizer = nltk.tokenize.WhitespaceTokenizer()\n",
    "lemmatizer = nltk.stem.WordNetLemmatizer()\n",
    "df['v2'] = df.v2.apply(lemmatize_text)"
   ]
  },
  {
   "cell_type": "code",
   "execution_count": 11,
   "metadata": {},
   "outputs": [],
   "source": [
    "#Split into train and test datasets\n",
    "x_train, x_test, y_train, y_test = my_train_test_split(df)"
   ]
  },
  {
   "cell_type": "code",
   "execution_count": 12,
   "metadata": {},
   "outputs": [],
   "source": [
    "#Reindex train and test datasets\n",
    "x_train = x_train.reset_index(drop = True)\n",
    "x_test = x_test.reset_index(drop = True)\n",
    "y_train = y_train.reset_index(drop = True)\n",
    "y_test = y_test.reset_index(drop = True)"
   ]
  },
  {
   "cell_type": "code",
   "execution_count": 13,
   "metadata": {
    "scrolled": true
   },
   "outputs": [],
   "source": [
    "#Build dictionary for unique words from dataset\n",
    "dictionary = build_dictionary(x_train)"
   ]
  },
  {
   "cell_type": "code",
   "execution_count": 14,
   "metadata": {},
   "outputs": [],
   "source": [
    "#Create train and test feature sets\n",
    "train_feature_matrix = build_features(x_train, dictionary)\n",
    "test_feature_matrix = build_features(x_test, dictionary)"
   ]
  },
  {
   "cell_type": "code",
   "execution_count": 15,
   "metadata": {},
   "outputs": [
    {
     "name": "stderr",
     "output_type": "stream",
     "text": [
      "C:\\Users\\prani\\Anaconda3\\lib\\site-packages\\ipykernel_launcher.py:8: FutureWarning: from_items is deprecated. Please use DataFrame.from_dict(dict(items), ...) instead. DataFrame.from_dict(OrderedDict(items)) may be used to preserve the key order.\n",
      "  \n"
     ]
    },
    {
     "data": {
      "text/plain": [
       "<matplotlib.axes._subplots.AxesSubplot at 0x2054019f198>"
      ]
     },
     "execution_count": 15,
     "metadata": {},
     "output_type": "execute_result"
    },
    {
     "data": {
      "image/png": "[encoded data removed]",
      "text/plain": [
       "<Figure size 792x432 with 1 Axes>"
      ]
     },
     "metadata": {
      "needs_background": "light"
     },
     "output_type": "display_data"
    }
   ],
   "source": [
    "#Multinomial Naive Bayes and Hyperparameter Tuning\n",
    "pred_scores = []\n",
    "\n",
    "for i in np.linspace(0.05, 1, num=20):\n",
    "    mnb = MultinomialNB(alpha = i)\n",
    "    mnb.fit(train_feature_matrix, y_train)\n",
    "    pred = mnb.predict(test_feature_matrix)\n",
    "    pred_scores.append((i, [accuracy_score(y_test, pred)]))\n",
    "    \n",
    "df_scores = pd.DataFrame.from_items(pred_scores, orient = 'index', columns = ['Score'])\n",
    "df_scores.plot(figsize = (11, 6))"
   ]
  },
  {
   "cell_type": "code",
   "execution_count": 16,
   "metadata": {},
   "outputs": [
    {
     "data": {
      "text/html": [
       "<div>\n",
       "<style scoped>\n",
       "    .dataframe tbody tr th:only-of-type {\n",
       "        vertical-align: middle;\n",
       "    }\n",
       "\n",
       "    .dataframe tbody tr th {\n",
       "        vertical-align: top;\n",
       "    }\n",
       "\n",
       "    .dataframe thead th {\n",
       "        text-align: right;\n",
       "    }\n",
       "</style>\n",
       "<table border=\"1\" class=\"dataframe\">\n",
       "  <thead>\n",
       "    <tr style=\"text-align: right;\">\n",
       "      <th></th>\n",
       "      <th>Score</th>\n",
       "    </tr>\n",
       "  </thead>\n",
       "  <tbody>\n",
       "    <tr>\n",
       "      <th>0.05</th>\n",
       "      <td>0.869524</td>\n",
       "    </tr>\n",
       "    <tr>\n",
       "      <th>0.10</th>\n",
       "      <td>0.869524</td>\n",
       "    </tr>\n",
       "  </tbody>\n",
       "</table>\n",
       "</div>"
      ],
      "text/plain": [
       "         Score\n",
       "0.05  0.869524\n",
       "0.10  0.869524"
      ]
     },
     "execution_count": 16,
     "metadata": {},
     "output_type": "execute_result"
    }
   ],
   "source": [
    "df_scores[df_scores['Score'] == df_scores['Score'].max()]"
   ]
  },
  {
   "cell_type": "code",
   "execution_count": 17,
   "metadata": {},
   "outputs": [],
   "source": [
    "i_value = df_scores[df_scores['Score'] == df_scores['Score'].max()].index.values.astype(float)[0]"
   ]
  },
  {
   "cell_type": "code",
   "execution_count": 18,
   "metadata": {},
   "outputs": [
    {
     "name": "stdout",
     "output_type": "stream",
     "text": [
      "Confusion Matrix of Naive Bayes Algorithm is\n",
      "[[1850  276]\n",
      " [ 272 1802]]\n",
      "Precision of Naive Bayes Algorithm is 0.8694995096967559\n",
      "Recall of Naive Bayes Algorithm is 0.8695155992165693\n",
      "Accuracy of Naive Bayes Algorithm is 0.8695238095238095\n"
     ]
    },
    {
     "data": {
      "image/png": "[encoded data removed]",
      "text/plain": [
       "<Figure size 432x288 with 1 Axes>"
      ]
     },
     "metadata": {
      "needs_background": "light"
     },
     "output_type": "display_data"
    }
   ],
   "source": [
    "# Multinomial Naive Bayes Performance\n",
    "classifier_MNB = MultinomialNB(alpha = i_value)\n",
    "classifier_MNB.fit(train_feature_matrix, y_train)\n",
    "result_MNB = classifier_MNB.predict(test_feature_matrix)\n",
    "\n",
    "print('Confusion Matrix of Naive Bayes Algorithm is\\n{0}'.format(confusion_matrix(y_test, result_MNB)))\n",
    "print('Precision of Naive Bayes Algorithm is {0}'.format(precision_score(y_test, result_MNB, average=\"macro\")))\n",
    "print('Recall of Naive Bayes Algorithm is {0}'.format(recall_score(y_test, result_MNB, average=\"macro\")))\n",
    "print('Accuracy of Naive Bayes Algorithm is {0}'.format(classifier_MNB.score(test_feature_matrix, y_test)))\n",
    "\n",
    "roc_curve_plot(classifier_MNB, test_feature_matrix, y_test)"
   ]
  },
  {
   "cell_type": "code",
   "execution_count": 19,
   "metadata": {},
   "outputs": [
    {
     "name": "stderr",
     "output_type": "stream",
     "text": [
      "C:\\Users\\prani\\Anaconda3\\lib\\site-packages\\ipykernel_launcher.py:8: FutureWarning: from_items is deprecated. Please use DataFrame.from_dict(dict(items), ...) instead. DataFrame.from_dict(OrderedDict(items)) may be used to preserve the key order.\n",
      "  \n"
     ]
    },
    {
     "data": {
      "text/plain": [
       "<matplotlib.axes._subplots.AxesSubplot at 0x20540261be0>"
      ]
     },
     "execution_count": 19,
     "metadata": {},
     "output_type": "execute_result"
    },
    {
     "data": {
      "image/png": "[encoded data removed]",
      "text/plain": [
       "<Figure size 792x432 with 1 Axes>"
      ]
     },
     "metadata": {
      "needs_background": "light"
     },
     "output_type": "display_data"
    }
   ],
   "source": [
    "# Bernoulli's Naive Bayes and Hyperparameter Tuning\n",
    "pred_scores = []\n",
    "\n",
    "for i in np.linspace(0.05, 1, num = 20):\n",
    "    mnb = BernoulliNB(alpha = i)\n",
    "    mnb.fit(train_feature_matrix, y_train)\n",
    "    pred = mnb.predict(test_feature_matrix)\n",
    "    pred_scores.append((i, [accuracy_score(y_test, pred)]))\n",
    "    \n",
    "df_scores = pd.DataFrame.from_items(pred_scores, orient = 'index', columns = ['Score'])\n",
    "df_scores.plot(figsize = (11,6))"
   ]
  },
  {
   "cell_type": "code",
   "execution_count": 20,
   "metadata": {},
   "outputs": [
    {
     "data": {
      "text/html": [
       "<div>\n",
       "<style scoped>\n",
       "    .dataframe tbody tr th:only-of-type {\n",
       "        vertical-align: middle;\n",
       "    }\n",
       "\n",
       "    .dataframe tbody tr th {\n",
       "        vertical-align: top;\n",
       "    }\n",
       "\n",
       "    .dataframe thead th {\n",
       "        text-align: right;\n",
       "    }\n",
       "</style>\n",
       "<table border=\"1\" class=\"dataframe\">\n",
       "  <thead>\n",
       "    <tr style=\"text-align: right;\">\n",
       "      <th></th>\n",
       "      <th>Score</th>\n",
       "    </tr>\n",
       "  </thead>\n",
       "  <tbody>\n",
       "    <tr>\n",
       "      <th>0.05</th>\n",
       "      <td>0.870238</td>\n",
       "    </tr>\n",
       "  </tbody>\n",
       "</table>\n",
       "</div>"
      ],
      "text/plain": [
       "         Score\n",
       "0.05  0.870238"
      ]
     },
     "execution_count": 20,
     "metadata": {},
     "output_type": "execute_result"
    }
   ],
   "source": [
    "df_scores[df_scores['Score'] == df_scores['Score'].max()]"
   ]
  },
  {
   "cell_type": "code",
   "execution_count": 21,
   "metadata": {},
   "outputs": [],
   "source": [
    "i_value = df_scores[df_scores['Score'] == df_scores['Score'].max()].index.values.astype(float)[0]"
   ]
  },
  {
   "cell_type": "code",
   "execution_count": 22,
   "metadata": {},
   "outputs": [
    {
     "name": "stdout",
     "output_type": "stream",
     "text": [
      "Confusion Matrix of Bernoulli's Naive Bayes Algorithm is\n",
      "[[1846  280]\n",
      " [ 265 1809]]\n",
      "Precision of Bernoulli's Naive Bayes Algorithm is 0.870215826783456\n",
      "Recall of Bernoulli's Naive Bayes Algorithm is 0.8702624257142364\n",
      "Accuracy of Bernoulli's Naive Bayes Algorithm is 0.8702380952380953\n"
     ]
    },
    {
     "data": {
      "image/png": "[encoded data removed]",
      "text/plain": [
       "<Figure size 432x288 with 1 Axes>"
      ]
     },
     "metadata": {
      "needs_background": "light"
     },
     "output_type": "display_data"
    }
   ],
   "source": [
    "# Bernoulli's Naive Bayes Performance\n",
    "classifier_BNB = BernoulliNB(alpha = i_value)\n",
    "classifier_BNB.fit(train_feature_matrix, y_train)\n",
    "result_BNB = classifier_BNB.predict(test_feature_matrix)\n",
    "\n",
    "print('Confusion Matrix of Bernoulli\\'s Naive Bayes Algorithm is\\n{0}'.format(confusion_matrix(y_test, result_BNB)))\n",
    "print('Precision of Bernoulli\\'s Naive Bayes Algorithm is {0}'.format(precision_score(y_test, result_BNB, average=\"macro\")))\n",
    "print('Recall of Bernoulli\\'s Naive Bayes Algorithm is {0}'.format(recall_score(y_test, result_BNB, average=\"macro\")))\n",
    "print('Accuracy of Bernoulli\\'s Naive Bayes Algorithm is {0}'.format(classifier_BNB.score(test_feature_matrix, y_test)))\n",
    "\n",
    "roc_curve_plot(classifier_BNB, test_feature_matrix, y_test)"
   ]
  },
  {
   "cell_type": "code",
   "execution_count": 23,
   "metadata": {},
   "outputs": [
    {
     "name": "stderr",
     "output_type": "stream",
     "text": [
      "C:\\Users\\prani\\Anaconda3\\lib\\site-packages\\sklearn\\linear_model\\sag.py:334: ConvergenceWarning: The max_iter was reached which means the coef_ did not converge\n",
      "  \"the coef_ did not converge\", ConvergenceWarning)\n",
      "C:\\Users\\prani\\Anaconda3\\lib\\site-packages\\ipykernel_launcher.py:9: FutureWarning: from_items is deprecated. Please use DataFrame.from_dict(dict(items), ...) instead. DataFrame.from_dict(OrderedDict(items)) may be used to preserve the key order.\n",
      "  if __name__ == '__main__':\n"
     ]
    },
    {
     "data": {
      "text/plain": [
       "<matplotlib.axes._subplots.AxesSubplot at 0x205401b0f60>"
      ]
     },
     "execution_count": 23,
     "metadata": {},
     "output_type": "execute_result"
    },
    {
     "data": {
      "image/png": "[encoded data removed]",
      "text/plain": [
       "<Figure size 792x432 with 1 Axes>"
      ]
     },
     "metadata": {
      "needs_background": "light"
     },
     "output_type": "display_data"
    }
   ],
   "source": [
    "# Logistic Regression and Hyperparameter Tuning\n",
    "slvr = {'newton-cg' : 'newton-cg', 'lbfgs': 'lbfgs', 'liblinear': 'liblinear', 'sag': 'sag'}\n",
    "pred_scores = []\n",
    "\n",
    "for k, v in slvr.items():\n",
    "    lrc = LogisticRegression(solver = v, penalty = 'l2')\n",
    "    lrc.fit(train_feature_matrix, y_train)\n",
    "    pred = lrc.predict(test_feature_matrix)\n",
    "    pred_scores.append((k, [accuracy_score(y_test, pred)]))\n",
    "    \n",
    "df_scores = pd.DataFrame.from_items(pred_scores, orient = 'index', columns = ['Score'])\n",
    "df_scores.plot(figsize = (11,6))"
   ]
  },
  {
   "cell_type": "code",
   "execution_count": 24,
   "metadata": {},
   "outputs": [
    {
     "data": {
      "text/html": [
       "<div>\n",
       "<style scoped>\n",
       "    .dataframe tbody tr th:only-of-type {\n",
       "        vertical-align: middle;\n",
       "    }\n",
       "\n",
       "    .dataframe tbody tr th {\n",
       "        vertical-align: top;\n",
       "    }\n",
       "\n",
       "    .dataframe thead th {\n",
       "        text-align: right;\n",
       "    }\n",
       "</style>\n",
       "<table border=\"1\" class=\"dataframe\">\n",
       "  <thead>\n",
       "    <tr style=\"text-align: right;\">\n",
       "      <th></th>\n",
       "      <th>Score</th>\n",
       "    </tr>\n",
       "  </thead>\n",
       "  <tbody>\n",
       "    <tr>\n",
       "      <th>newton-cg</th>\n",
       "      <td>0.878571</td>\n",
       "    </tr>\n",
       "    <tr>\n",
       "      <th>lbfgs</th>\n",
       "      <td>0.878571</td>\n",
       "    </tr>\n",
       "    <tr>\n",
       "      <th>liblinear</th>\n",
       "      <td>0.878571</td>\n",
       "    </tr>\n",
       "  </tbody>\n",
       "</table>\n",
       "</div>"
      ],
      "text/plain": [
       "              Score\n",
       "newton-cg  0.878571\n",
       "lbfgs      0.878571\n",
       "liblinear  0.878571"
      ]
     },
     "execution_count": 24,
     "metadata": {},
     "output_type": "execute_result"
    }
   ],
   "source": [
    "df_scores[df_scores['Score'] == df_scores['Score'].max()]"
   ]
  },
  {
   "cell_type": "code",
   "execution_count": 25,
   "metadata": {},
   "outputs": [],
   "source": [
    "solver_value = df_scores[df_scores['Score'] == df_scores['Score'].max()].index.values.astype(str)[0]"
   ]
  },
  {
   "cell_type": "code",
   "execution_count": 26,
   "metadata": {},
   "outputs": [],
   "source": [
    "solver_value = str(solver_value)"
   ]
  },
  {
   "cell_type": "code",
   "execution_count": 27,
   "metadata": {},
   "outputs": [
    {
     "name": "stdout",
     "output_type": "stream",
     "text": [
      "Confusion Matrix of Logistic Regression Algorithm is\n",
      "[[1777  349]\n",
      " [ 161 1913]]\n",
      "Precision of Logistic Regression Algorithm is 0.881318212053773\n",
      "Recall of Logistic Regression Algorithm is 0.8791070921529014\n",
      "Accuracy of Logistic Regression Algorithm is 0.8785714285714286\n"
     ]
    },
    {
     "data": {
      "image/png": "[encoded data removed]",
      "text/plain": [
       "<Figure size 432x288 with 1 Axes>"
      ]
     },
     "metadata": {
      "needs_background": "light"
     },
     "output_type": "display_data"
    }
   ],
   "source": [
    "# Logistic Regression Performance\n",
    "classifier_LR = LogisticRegression(solver = solver_value, penalty = 'l2')\n",
    "classifier_LR.fit(train_feature_matrix, y_train)\n",
    "result_LR = classifier_LR.predict(test_feature_matrix)\n",
    "\n",
    "print('Confusion Matrix of Logistic Regression Algorithm is\\n{0}'.format(confusion_matrix(y_test, result_LR)))\n",
    "print('Precision of Logistic Regression Algorithm is {0}'.format(precision_score(y_test, result_LR, average=\"macro\")))\n",
    "print('Recall of Logistic Regression Algorithm is {0}'.format(recall_score(y_test, result_LR, average=\"macro\")))\n",
    "print('Accuracy of Logistic Regression Algorithm is {0}'.format(classifier_LR.score(test_feature_matrix, y_test)))\n",
    "\n",
    "roc_curve_plot(classifier_LR, test_feature_matrix, y_test)"
   ]
  }
 ],
 "metadata": {
  "kernelspec": {
   "display_name": "Python 3",
   "language": "python",
   "name": "python3"
  },
  "language_info": {
   "codemirror_mode": {
    "name": "ipython",
    "version": 3
   },
   "file_extension": ".py",
   "mimetype": "text/x-python",
   "name": "python",
   "nbconvert_exporter": "python",
   "pygments_lexer": "ipython3",
   "version": "3.7.1"
  }
 },
 "nbformat": 4,
 "nbformat_minor": 2
}
